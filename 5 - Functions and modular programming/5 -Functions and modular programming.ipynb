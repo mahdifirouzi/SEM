{
 "cells": [
  {
   "cell_type": "markdown",
   "metadata": {},
   "source": [
    "\n",
    "#### &nbsp;&nbsp;&nbsp;&nbsp;&nbsp;&nbsp;&nbsp;&nbsp;&nbsp;&nbsp;&nbsp;&nbsp;&nbsp;&nbsp;&nbsp;&nbsp;&nbsp;&nbsp;&nbsp;&nbsp;&nbsp;&nbsp;&nbsp;&nbsp;&nbsp;&nbsp;&nbsp;&nbsp;&nbsp;&nbsp;&nbsp;&nbsp;&nbsp;&nbsp;&nbsp;&nbsp;&nbsp;&nbsp;&nbsp;&nbsp;&nbsp;&nbsp;&nbsp;&nbsp;&nbsp;&nbsp;&nbsp;&nbsp;&nbsp;&nbsp;&nbsp;&nbsp;&nbsp;&nbsp;&nbsp;&nbsp;&nbsp;&nbsp;&nbsp;&nbsp;🐍Python Refresher for Sustainable Energy Management Module\n",
    "#### &nbsp;&nbsp;&nbsp;&nbsp;&nbsp;&nbsp;&nbsp;&nbsp;&nbsp;&nbsp;&nbsp;&nbsp;&nbsp;&nbsp;&nbsp;&nbsp;&nbsp;&nbsp;&nbsp;&nbsp;&nbsp;&nbsp;&nbsp;&nbsp;&nbsp;&nbsp;&nbsp;&nbsp;&nbsp;&nbsp;&nbsp;&nbsp;&nbsp;&nbsp;&nbsp;&nbsp;&nbsp;&nbsp;&nbsp;&nbsp;&nbsp;&nbsp;&nbsp;&nbsp;&nbsp;&nbsp;&nbsp;&nbsp;&nbsp;&nbsp;&nbsp;&nbsp;&nbsp;&nbsp;&nbsp;&nbsp;&nbsp;&nbsp;&nbsp;&nbsp;&nbsp;&nbsp;&nbsp;&nbsp;&nbsp;&nbsp;&nbsp;&nbsp;&nbsp;&nbsp;&nbsp;&nbsp;&nbsp;&nbsp;&nbsp;&nbsp;&nbsp;&nbsp;&nbsp;&nbsp;&nbsp;&nbsp;&nbsp;&nbsp;&nbsp;&nbsp;&nbsp;&nbsp;&nbsp;&nbsp;🎓Nottingham Trent University\n",
    "______________________________________________________________________________________________________"
   ]
  },
  {
   "cell_type": "markdown",
   "metadata": {},
   "source": [
    "### 5-Getting Started with Python\n",
    "### Python Basics - Functions and modular programming\n",
    "______________________________________________________________________________________________________"
   ]
  },
  {
   "cell_type": "markdown",
   "metadata": {},
   "source": [
    "## Outline\n",
    "- Functions\n",
    "  - Functions without Parameters\n",
    "  - Functions with Parameters\n",
    "  - Functions with Default Parameters\n",
    "  - Functions Returning Values\n",
    "- Modular programming\n",
    "- Time⌚to Code💻\n",
    "______________________________________________________________________________________________________"
   ]
  },
  {
   "cell_type": "markdown",
   "metadata": {},
   "source": [
    "### Functions:\n",
    "- #### Usage:\n",
    "    - In Python, a function is a reusable block of code that performs a specific task. Functions are defined using the **def** keyword, followed by the function name and parameters.\n",
    "- #### Example:\n"
   ]
  },
  {
   "cell_type": "code",
   "execution_count": null,
   "metadata": {},
   "outputs": [],
   "source": [
    "def greet(name):\n",
    "# This function greets the person name passed in as an input parameter.\n",
    "    print(\"Hello, \" + name + \"!\")\n",
    "\n",
    "# Call the function\n",
    "greet(\"Alice\")"
   ]
  },
  {
   "cell_type": "markdown",
   "metadata": {},
   "source": [
    "- When we use a function inside a program, we name it **call a function**\n",
    "- A function allows you to use tasks in different parts of a program by just calling the function, avoiding repetition and making your code clean and tidy toward modular programming.\n",
    "- Call the greet function using your name in the below cell and see how it works\n"
   ]
  },
  {
   "cell_type": "code",
   "execution_count": null,
   "metadata": {},
   "outputs": [],
   "source": []
  },
  {
   "cell_type": "markdown",
   "metadata": {},
   "source": [
    "#### Functions without Parameters:\n",
    "Functions without parameters are those that do not take any input. They perform a specific task without relying on external data. \n",
    "- #### Example:"
   ]
  },
  {
   "cell_type": "code",
   "execution_count": null,
   "metadata": {},
   "outputs": [],
   "source": [
    "def greet():\n",
    "#This function prints a simple greeting.\n",
    "    print(\"Hello, World!\")\n",
    "# Call the function\n",
    "greet()"
   ]
  },
  {
   "cell_type": "markdown",
   "metadata": {},
   "source": [
    "- In this example, greet is a function that doesn't take any parameters. It simply prints a greeting when called."
   ]
  },
  {
   "cell_type": "markdown",
   "metadata": {},
   "source": [
    "#### Functions with Parameters:\n",
    "Functions with parameters accept input values, which are specified when calling the function. These parameters allow the function to work with different data.\n",
    "- #### Example:"
   ]
  },
  {
   "cell_type": "code",
   "execution_count": null,
   "metadata": {},
   "outputs": [],
   "source": [
    "def add_numbers(a, b):\n",
    "#This function adds two numbers.\n",
    "    result = a + b\n",
    "    print(f\"The sum of {a} and {b} is: {result}\")\n",
    "\n",
    "# Call the function with arguments\n",
    "add_numbers(3, 5)"
   ]
  },
  {
   "cell_type": "markdown",
   "metadata": {},
   "source": [
    "- In this example, **add_numbers** takes two parameters **(a and b)** and prints the sum of the provided values."
   ]
  },
  {
   "cell_type": "markdown",
   "metadata": {},
   "source": [
    "#### Functions with Default Parameters::\n",
    "Default parameters allow you to define a default value for a parameter, which is used if the caller doesn't provide a value for that parameter. \n",
    "- #### Example:"
   ]
  },
  {
   "cell_type": "code",
   "execution_count": null,
   "metadata": {},
   "outputs": [],
   "source": [
    "def power(base, exponent=2):\n",
    "    \"\"\"This function calculates the power of a number with a default exponent of 2.\"\"\"\n",
    "    result = base ** exponent\n",
    "    print(f\"{base} raised to the power of {exponent} is: {result}\")\n",
    "\n",
    "# Call the function with and without providing the exponent\n",
    "power(3)  # Uses default exponent (2)\n",
    "power(2, 4)  # Provides a custom exponent"
   ]
  },
  {
   "cell_type": "markdown",
   "metadata": {},
   "source": [
    "- In this example, the power function has a default exponent of 2. If an exponent is not provided, it uses the default value."
   ]
  },
  {
   "cell_type": "markdown",
   "metadata": {},
   "source": [
    "#### Functions Returning Values:\n",
    "Functions can return values using the **return** keyword. This allows the function to produce a result that can be used elsewhere in the code.\n",
    "- #### Example:"
   ]
  },
  {
   "cell_type": "code",
   "execution_count": null,
   "metadata": {},
   "outputs": [],
   "source": [
    "def multiply(a, b):\n",
    "    #This function multiplies two numbers and returns the result.\n",
    "    result = a * b\n",
    "    return result\n",
    "\n",
    "# Call the function and store the result\n",
    "product = multiply(4, 6)\n",
    "print(\"The product is:\", product)\n"
   ]
  },
  {
   "cell_type": "markdown",
   "metadata": {},
   "source": [
    "- In this example, the multiply function calculates the product of two numbers and returns the result. The calling code can then use this result.\n",
    "\n",
    "- Understanding these different types of functions allows you to write modular and efficient code, enhancing the readability and reusability of your programs.\n",
    " - #### Example:"
   ]
  },
  {
   "cell_type": "code",
   "execution_count": null,
   "metadata": {},
   "outputs": [],
   "source": [
    "def add(a, b):\n",
    "    #This function adds two numbers.\n",
    "    return a + b\n",
    "\n",
    "def subtract(a, b):\n",
    "    #This function subtracts two numbers.\n",
    "    return a - b\n",
    "\n",
    "def multiply(a, b):\n",
    "    #This function multiplies two numbers.\n",
    "    return a * b\n",
    "\n",
    "# Example usage\n",
    "result_add = add(5, 3)\n",
    "result_subtract = subtract(8, 2)\n",
    "result_multiply = multiply(4, 6)\n",
    "\n",
    "print(\"Addition:\", result_add)\n",
    "print(\"Subtraction:\", result_subtract)\n",
    "print(\"Multiplication:\", result_multiply)"
   ]
  },
  {
   "cell_type": "markdown",
   "metadata": {},
   "source": [
    "______________________________________________________________________________________________________\n",
    "### Modular programming:\n",
    "Modular programming is a programming paradigm that emphasises breaking down a program into smaller, independent, and manageable modules. Each module is a self-contained unit that performs a specific task. The goal is to enhance code organisation, readability, and maintainability. With its support for functions and modules, Python is well-suited for modular programming.ram.teams.ts."
   ]
  },
  {
   "cell_type": "markdown",
   "metadata": {},
   "source": [
    "#### Benefits of Modular Programming:\n",
    "-  Code Reusability:\n",
    "  Modules can be reused in different parts of the program or other projects, reducing redundancy\n",
    "- Readability:\n",
    "  Breaking down code into smaller modules makes it easier to understand and maintain\n",
    "- Maintainability:\n",
    "  Modules can be modified or updated independently without affecting the entire program"
   ]
  },
  {
   "cell_type": "markdown",
   "metadata": {},
   "source": [
    "#### Components of Modular Programming in Python::\n",
    "-  1. Functions:\n",
    "       \n",
    "Functions in Python are the building blocks of modular programming. They encapsulate a set of instructions and can take parameters, perform tasks, and return values:"
   ]
  },
  {
   "cell_type": "markdown",
   "metadata": {},
   "source": [
    "-  2. Modules:\n",
    "       \n",
    "Modules are Python files containing functions, classes, and variables. They allow you to organize related code. \n",
    "\n",
    "create a text file and rename it to math_operations.py and add below code inside your file:"
   ]
  },
  {
   "cell_type": "code",
   "execution_count": null,
   "metadata": {},
   "outputs": [],
   "source": [
    "# math_operations.py\n",
    "\n",
    "def add(a, b):\n",
    "# Addition operation.\n",
    "    return a + b\n",
    "\n",
    "def subtract(a, b):\n",
    "# Subtraction operation.\n",
    "    return a - b"
   ]
  },
  {
   "cell_type": "markdown",
   "metadata": {},
   "source": [
    "You can then use this module in another script:"
   ]
  },
  {
   "cell_type": "code",
   "execution_count": null,
   "metadata": {},
   "outputs": [],
   "source": [
    "# main_script.py\n",
    "import math_operations\n",
    "\n",
    "result_add = math_operations.add(5, 3)\n",
    "result_subtract = math_operations.subtract(8, 2)\n",
    "\n",
    "print(\"Addition:\", result_add)\n",
    "print(\"Subtraction:\", result_subtract)"
   ]
  },
  {
   "cell_type": "markdown",
   "metadata": {},
   "source": [
    "If you get an Error like below one it means the file you created is not inside your current ipython file directory."
   ]
  },
  {
   "attachments": {
    "3b755104-617d-4418-96b9-ad1cf92fd87a.png": {
     "image/png": "[encoded data removed]"
    }
   },
   "cell_type": "markdown",
   "metadata": {},
   "source": [
    "![image.png](attachment:3b755104-617d-4418-96b9-ad1cf92fd87a.png)"
   ]
  },
  {
   "cell_type": "markdown",
   "metadata": {},
   "source": [
    "-  3. Packages:\n",
    "       \n",
    "Packages are a way to organize related modules. \n",
    "\n",
    "Consider a package named 'my_package' for creating this package you need a folder with name of package on it\n",
    "\n",
    "Each package contain a special file named _ _ _init_  _ _.py or sometimes **main_script.py**\n",
    "\n",
    "Different madoules of a package are located in different .py python code file inside the package directory\n",
    "\n",
    "Below picture shows a directory of a package with the two madoules and main file named _ _ _init_  _ _.py\n"
   ]
  },
  {
   "attachments": {
    "972eba35-878b-449e-8ba7-954a6f8dc152.png": {
     "image/png": "[encoded data removed]"
    }
   },
   "cell_type": "markdown",
   "metadata": {},
   "source": [
    "![image.png](attachment:972eba35-878b-449e-8ba7-954a6f8dc152.png)"
   ]
  },
  {
   "cell_type": "markdown",
   "metadata": {},
   "source": [
    "You can import modules from a package like this:"
   ]
  },
  {
   "cell_type": "code",
   "execution_count": null,
   "metadata": {},
   "outputs": [],
   "source": [
    "# main_script __init__.py\n",
    "from my_package import math_operations\n",
    "\n",
    "result_add = math_operations.add(5, 3)\n",
    "result_subtract = math_operations.subtract(8, 2)\n",
    "\n",
    "print(\"Addition:\", result_add)\n",
    "print(\"Subtraction:\", result_subtract)\n"
   ]
  },
  {
   "cell_type": "markdown",
   "metadata": {},
   "source": [
    "______________________________________________________________________________________________________\n",
    "### Time⌚to Code💻\n",
    "1️⃣ Write a code 🧑‍💻👩‍💻"
   ]
  },
  {
   "cell_type": "markdown",
   "metadata": {},
   "source": [
    "Consider a solar panel system with the following parameters:\n",
    "\n",
    "- Solar radiation: 1200 kWh/m²\n",
    "- Panel efficiency: 0.15\n",
    "- Panel area: 40 square meters\n",
    "- Electricity generated: 180 kWh\n",
    "- Inverter efficiency: 0.92\n",
    "\n",
    "Write a Python program that includes functions to calculate the energy input, energy output, and overall efficiency of the solar panel system. Use the given parameters and the following mathematical notations:\n",
    "\n",
    "- Energy Input (EI) = Solar Radiation × Panel Efficiency × Panel Area\n",
    "- Energy Output (EO) = Electricity Generated × Inverter Efficiency\n",
    "- Efficiency (%) = (EO / EI) × 100\n",
    "\n",
    "Your program should display the calculated Energy Input, Energy Output, and System Efficiency.\n",
    "\n",
    "Write the Python code for the program, and make sure to include comments explaining the purpose of each function and the overall logic of the program.\n",
    "\n",
    "Note: You can use the provided parameters as initial values for your program, but make sure your code is flexible enough to handle different sets of parameters."
   ]
  }
 ],
 "metadata": {
  "kernelspec": {
   "display_name": "Python 3 (ipykernel)",
   "language": "python",
   "name": "python3"
  },
  "language_info": {
   "codemirror_mode": {
    "name": "ipython",
    "version": 3
   },
   "file_extension": ".py",
   "mimetype": "text/x-python",
   "name": "python",
   "nbconvert_exporter": "python",
   "pygments_lexer": "ipython3",
   "version": "3.12.1"
  }
 },
 "nbformat": 4,
 "nbformat_minor": 4
}
