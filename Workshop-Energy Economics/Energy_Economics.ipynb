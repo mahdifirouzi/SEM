{
  "cells": [
    {
      "cell_type": "markdown",
      "id": "af9a0c77-34ec-4fbc-bbe3-006d5efc1671",
      "metadata": {
        "id": "af9a0c77-34ec-4fbc-bbe3-006d5efc1671"
      },
      "source": [
        "\n",
        "#### &nbsp;&nbsp;&nbsp;&nbsp;&nbsp;&nbsp;&nbsp;&nbsp;&nbsp;&nbsp;&nbsp;&nbsp;&nbsp;&nbsp;&nbsp;&nbsp;&nbsp;&nbsp;&nbsp;&nbsp;&nbsp;&nbsp;&nbsp;&nbsp;&nbsp;&nbsp;&nbsp;&nbsp;&nbsp;&nbsp;&nbsp;&nbsp;&nbsp;&nbsp;&nbsp;&nbsp;&nbsp;&nbsp;&nbsp;&nbsp;&nbsp;&nbsp;&nbsp;&nbsp;&nbsp;&nbsp;&nbsp;&nbsp;&nbsp;&nbsp;&nbsp;&nbsp;&nbsp;&nbsp;&nbsp;&nbsp;&nbsp;&nbsp;&nbsp;&nbsp;🐍Python for Sustainable Energy Management Module\n",
        "#### &nbsp;&nbsp;&nbsp;&nbsp;&nbsp;&nbsp;&nbsp;&nbsp;&nbsp;&nbsp;&nbsp;&nbsp;&nbsp;&nbsp;&nbsp;&nbsp;&nbsp;&nbsp;&nbsp;&nbsp;&nbsp;&nbsp;&nbsp;&nbsp;&nbsp;&nbsp;&nbsp;&nbsp;&nbsp;&nbsp;&nbsp;&nbsp;&nbsp;&nbsp;&nbsp;&nbsp;&nbsp;&nbsp;&nbsp;&nbsp;&nbsp;&nbsp;&nbsp;&nbsp;&nbsp;&nbsp;&nbsp;&nbsp;&nbsp;&nbsp;&nbsp;&nbsp;&nbsp;&nbsp;&nbsp;&nbsp;&nbsp;&nbsp;&nbsp;&nbsp;&nbsp;&nbsp;&nbsp;&nbsp;&nbsp;&nbsp;&nbsp;&nbsp;&nbsp;&nbsp;&nbsp;&nbsp;&nbsp;&nbsp;&nbsp;&nbsp;&nbsp;&nbsp;&nbsp;&nbsp;&nbsp;&nbsp;&nbsp;&nbsp;&nbsp;&nbsp;&nbsp;&nbsp;&nbsp;&nbsp;🎓Nottingham Trent University\n",
        "______________________________________________________________________________________________________"
      ]
    },
    {
      "cell_type": "markdown",
      "id": "5a4d9dfe-959b-4269-a2da-ef627ab26b9d",
      "metadata": {
        "id": "5a4d9dfe-959b-4269-a2da-ef627ab26b9d"
      },
      "source": [
        "## Energy Economics🔌💡🏭💰💸💲\n"
      ]
    },
    {
      "cell_type": "markdown",
      "id": "86ee2e14",
      "metadata": {
        "id": "86ee2e14"
      },
      "source": [
        "#### Consider the Cash-Flow Analysis example from Gilbert Masters text book on page 643 inside the appendix."
      ]
    },
    {
      "cell_type": "markdown",
      "id": "e97e116e",
      "metadata": {
        "id": "e97e116e"
      },
      "source": [
        "First we define Input values of Cash-Flow Analysis example:"
      ]
    },
    {
      "cell_type": "code",
      "execution_count": 10,
      "id": "810886fe",
      "metadata": {
        "id": "810886fe"
      },
      "outputs": [],
      "source": [
        "# Input values\n",
        "loan_amount = 1000      # Loan amount in  ($)\n",
        "interest_rate = 0.06    # Interest rate 0.06 means 6% interest rate\n",
        "interest_rate_percentage = interest_rate * 100\n",
        "loan_term = 10           # (yrs)\n",
        "tax_bracket = 0.305\n",
        "energy_savings = 1500    # (kWh/Yr)\n",
        "price_at_t0 = 0.1        # ($/kWh)\n",
        "savings_at_t0 = 150      # ($/Yr)\n",
        "escalation_rate = 0.05   # (%/Yr)\n",
        "discount_rate = 0.10     # (Yr^-1)"
      ]
    },
    {
      "cell_type": "markdown",
      "id": "80ee121a",
      "metadata": {
        "id": "80ee121a"
      },
      "source": [
        "- Then we define a function for calculating CRF via below code:"
      ]
    },
    {
      "cell_type": "code",
      "execution_count": 2,
      "id": "d56a9f23",
      "metadata": {
        "id": "d56a9f23"
      },
      "outputs": [],
      "source": [
        "# Define a Function for Calculating CRF from Interest rate i , Loan term\n",
        "def calculate_crf(interest_rate, loan_term):\n",
        "    # Function to calculate Cash Recovery Factor (CRF)\n",
        "    crf = (interest_rate * (1 + interest_rate) ** loan_term) / ((1 + interest_rate) ** loan_term - 1)\n",
        "    return crf"
      ]
    },
    {
      "cell_type": "markdown",
      "id": "12830add",
      "metadata": {
        "id": "12830add"
      },
      "source": [
        "- Now we can calculate the crf by calling the function:"
      ]
    },
    {
      "cell_type": "code",
      "execution_count": null,
      "id": "f00d086b",
      "metadata": {
        "id": "f00d086b"
      },
      "outputs": [],
      "source": [
        "crf = calculate_crf(interest_rate, loan_term)\n",
        "print(f'CRF({interest_rate_percentage}%, {loan_term} yrs) per Year= {round(crf, 5)}')"
      ]
    },
    {
      "cell_type": "markdown",
      "id": "8300f6f4",
      "metadata": {
        "id": "8300f6f4"
      },
      "source": [
        "- Now we define a main function for Cash Flow Analysis"
      ]
    },
    {
      "cell_type": "code",
      "execution_count": 4,
      "id": "99b3d1e6",
      "metadata": {
        "id": "99b3d1e6"
      },
      "outputs": [],
      "source": [
        "# Define a Main Function for Cash Flow Analysis\n",
        "def cash_flow_analysis(loan_amount, interest_rate, loan_term, tax_bracket, energy_savings, price_at_t0, savings_at_t0, escalation_rate, discount_rate):\n",
        "    # Calculate CRF using the provided interest rate and loan term\n",
        "    crf = calculate_crf(interest_rate, loan_term)\n",
        "\n",
        "    # Initialize loan payments for each year, including year 0\n",
        "    loan_payments = [crf * loan_amount] * (loan_term + 1)\n",
        "\n",
        "    # Initialize variables for cumulative values\n",
        "    cash_flow_table = []\n",
        "    loan_balance = loan_amount\n",
        "    tax_saving_cumulative = 0\n",
        "    electric_saving_cumulative = 0\n",
        "    pv_savings_cumulative = 0\n",
        "\n",
        "    for year in range(loan_term + 1):  # Include year 0\n",
        "        print('--------------------------------------- ')\n",
        "        print(f'Year={year}')\n",
        "        # Calculate interest payment and principal payment for each year\n",
        "        interest_payment = interest_rate * loan_balance\n",
        "        print(f'interest_payment = interest_rate * loan_balance={interest_rate} * {loan_balance}={interest_payment}')\n",
        "\n",
        "        principal_payment = loan_payments[year] - interest_payment\n",
        "        print(f'principal_payment = {loan_payments[year]} - {interest_payment}={principal_payment}')\n",
        "\n",
        "        # Calculate tax saving on interest payment\n",
        "        tax_saving = interest_payment * tax_bracket\n",
        "        print(f'tax_saving = interest_payment * tax_bracket=tax_saving = {interest_payment} * {tax_bracket}={tax_saving}')\n",
        "        # Calculate electric saving based on energy savings, price, and escalation rate\n",
        "        electric_saving = savings_at_t0 * ((1 + escalation_rate) ** year)\n",
        "        # For year 0, set values to match the specified conditions\n",
        "        if year == 0:\n",
        "            interest_payment = 0\n",
        "            principal_payment = 0\n",
        "            loan_balance = loan_amount\n",
        "            tax_saving = 0\n",
        "            electric_saving = 0\n",
        "            loan_cost = 0\n",
        "            net_saving = 0\n",
        "            pv_saving = 0\n",
        "            pv_savings_cumulative = 0\n",
        "            loan_payments[year]=0\n",
        "\n",
        "        # Update loan balance for the next iteration\n",
        "        loan_balance -= principal_payment\n",
        "        print(f'loan_balance = loan_balance-principal_payment = {loan_balance}-{principal_payment}={loan_balance}')\n",
        "\n",
        "        # Calculate loan cost as loan payment - tax saving\n",
        "        loan_cost = loan_payments[year] - tax_saving if year != 0 else 0\n",
        "        print(f'loan_cost = loan_payments[year] - tax_saving=loan_cost = {loan_payments[year]} - {tax_saving}={loan_cost}')\n",
        "\n",
        "        net_saving = electric_saving - loan_cost\n",
        "\n",
        "        print(f'net_saving = electric_saving - loan_cost={electric_saving} - {loan_cost} = {net_saving}')\n",
        "        # Calculate present value (PV) of the net saving\n",
        "        pv_saving = net_saving / (1 + discount_rate) ** year\n",
        "        print(f'pv_saving = net_saving / (1 + discount_rate) ** year = {net_saving} / (1 + {discount_rate}) ** {year} = {pv_saving} ')\n",
        "        # Create a row for the cash flow table for the current year\n",
        "        cash_flow_table.append([year, round(loan_payments[year], 2), round(interest_payment, 2),\n",
        "                                round(principal_payment, 2), round(loan_balance, 2),\n",
        "                                round(tax_saving, 2), round(loan_cost, 2),\n",
        "                                round(electric_saving, 2), round(net_saving, 2),\n",
        "                                round(pv_saving, 2), round(pv_savings_cumulative + pv_saving, 2)])\n",
        "\n",
        "        # Update cumulative values for the next iteration\n",
        "        tax_saving_cumulative += tax_saving\n",
        "        electric_saving_cumulative += electric_saving\n",
        "        print(f'pv_savings_cumulative=pv_savings_cumulative+pv_saving = {pv_savings_cumulative}+{pv_saving}={pv_savings_cumulative}')\n",
        "        pv_savings_cumulative += pv_saving\n",
        "        print(f'={pv_savings_cumulative}')\n",
        "\n",
        "\n",
        "    return cash_flow_table"
      ]
    },
    {
      "cell_type": "markdown",
      "id": "d6a2b471",
      "metadata": {
        "id": "d6a2b471"
      },
      "source": [
        "- Now we define a function for displaying cash flow as a table"
      ]
    },
    {
      "cell_type": "code",
      "execution_count": 5,
      "id": "a39c00fc",
      "metadata": {
        "id": "a39c00fc"
      },
      "outputs": [],
      "source": [
        "def display_cash_flow_table(table):\n",
        "    # Display the cash flow table with appropriate headers\n",
        "    headers = [\"Y\", \"Loan Payment\", \"Interest\", \"Delta Principal\",\n",
        "               \"Loan Balance\", \"Tax Sav\", \"Loan Cost\", \"Electric Sav\",\n",
        "               \"Net Sav\", \"PV Savings\", \"Cum PV Sav\"]\n",
        "\n",
        "    print(\"{:<5} {:<15} {:<10} {:<15} {:<15} {:<10} {:<15} {:<15} {:<15} {:<15} {:<10}\".format(*headers))\n",
        "    print(\"-\" * 150)\n",
        "\n",
        "    for row in table:\n",
        "        # Display each row of the cash flow table\n",
        "        print(\"{:<5} {:<15} {:<10} {:<15} {:<15} {:<10} {:<15} {:<15} {:<15} {:<15} {:<10}\".format(*row))"
      ]
    },
    {
      "cell_type": "markdown",
      "id": "615d5c7f",
      "metadata": {
        "id": "615d5c7f"
      },
      "source": [
        "- Now you can Run this code part to call the cash flow analysis and Display the cash flow table functions"
      ]
    },
    {
      "cell_type": "code",
      "execution_count": null,
      "id": "d44cabeb",
      "metadata": {
        "id": "d44cabeb"
      },
      "outputs": [],
      "source": [
        "# Perform cash flow analysis\n",
        "cash_flow_table = cash_flow_analysis(loan_amount, interest_rate, loan_term, tax_bracket, energy_savings,\n",
        "                                     price_at_t0, savings_at_t0, escalation_rate, discount_rate)\n",
        "\n",
        "# Display the cash flow table with yearly values\n",
        "display_cash_flow_table(cash_flow_table)"
      ]
    },
    {
      "cell_type": "markdown",
      "id": "2ff17179",
      "metadata": {
        "id": "2ff17179"
      },
      "source": [
        "- Now as you prepared all of data and calculation you can change the example parameters like loan amount, interest rate , ... to see how the cash flow changes during years\n",
        "- You can call the functions again to see the calculation based on new input values"
      ]
    },
    {
      "cell_type": "code",
      "execution_count": null,
      "id": "1f0b9e75",
      "metadata": {
        "id": "1f0b9e75"
      },
      "outputs": [],
      "source": [
        "# Input values\n",
        "loan_amount = 1000      # Loan amount in  ($)\n",
        "interest_rate = 0.06    # Interest rate 0.06 means 6% interest rate\n",
        "interest_rate_percentage = interest_rate * 100\n",
        "loan_term = 10           # (yrs)\n",
        "crf = calculate_crf(interest_rate, loan_term)\n",
        "print(f'CRF({interest_rate_percentage}%, {loan_term} yrs) per Year= {round(crf, 5)}')\n",
        "\n",
        "tax_bracket = 0.305\n",
        "energy_savings = 1500    # (kWh/Yr)\n",
        "price_at_t0 = 0.1        # ($/kWh)\n",
        "savings_at_t0 = 150      # ($/Yr)\n",
        "escalation_rate = 0.05   # (%/Yr)\n",
        "discount_rate = 0.10     # (Yr^-1)\n",
        "\n",
        "\n",
        "# Perform cash flow analysis\n",
        "cash_flow_table = cash_flow_analysis(loan_amount, interest_rate, loan_term, tax_bracket, energy_savings,\n",
        "                                     price_at_t0, savings_at_t0, escalation_rate, discount_rate)\n",
        "\n",
        "# Display the cash flow table with yearly values\n",
        "display_cash_flow_table(cash_flow_table)"
      ]
    }
  ],
  "metadata": {
    "kernelspec": {
      "display_name": "Python 3 (ipykernel)",
      "language": "python",
      "name": "python3"
    },
    "language_info": {
      "codemirror_mode": {
        "name": "ipython",
        "version": 3
      },
      "file_extension": ".py",
      "mimetype": "text/x-python",
      "name": "python",
      "nbconvert_exporter": "python",
      "pygments_lexer": "ipython3",
      "version": "3.7.0"
    },
    "colab": {
      "provenance": []
    }
  },
  "nbformat": 4,
  "nbformat_minor": 5
}